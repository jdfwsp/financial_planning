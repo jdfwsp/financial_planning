{
 "cells": [
  {
   "cell_type": "markdown",
   "metadata": {},
   "source": [
    "# Unit 5 - Financial Planning\n"
   ]
  },
  {
   "cell_type": "code",
   "execution_count": 1,
   "metadata": {},
   "outputs": [],
   "source": [
    "# Initial imports\n",
    "import os\n",
    "import requests\n",
    "import pandas as pd\n",
    "from dotenv import load_dotenv\n",
    "import alpaca_trade_api as tradeapi\n",
    "from MCForecastTools import MCSimulation\n",
    "\n",
    "%matplotlib inline"
   ]
  },
  {
   "cell_type": "code",
   "execution_count": 2,
   "metadata": {},
   "outputs": [
    {
     "data": {
      "text/plain": [
       "True"
      ]
     },
     "execution_count": 2,
     "metadata": {},
     "output_type": "execute_result"
    }
   ],
   "source": [
    "# Load .env enviroment variables\n",
    "load_dotenv()"
   ]
  },
  {
   "cell_type": "markdown",
   "metadata": {},
   "source": [
    "## Part 1 - Personal Finance Planner"
   ]
  },
  {
   "cell_type": "markdown",
   "metadata": {},
   "source": [
    "### Collect Crypto Prices Using the `requests` Library"
   ]
  },
  {
   "cell_type": "code",
   "execution_count": 3,
   "metadata": {},
   "outputs": [],
   "source": [
    "# Set current amount of crypto assets\n",
    "my_btc = 1.2\n",
    "my_eth = 5.3"
   ]
  },
  {
   "cell_type": "code",
   "execution_count": 4,
   "metadata": {},
   "outputs": [],
   "source": [
    "# Crypto API URLs\n",
    "btc_url = \"https://api.alternative.me/v2/ticker/Bitcoin/?convert=USD\"\n",
    "eth_url = \"https://api.alternative.me/v2/ticker/Ethereum/?convert=USD\""
   ]
  },
  {
   "cell_type": "code",
   "execution_count": 5,
   "metadata": {},
   "outputs": [
    {
     "name": "stdout",
     "output_type": "stream",
     "text": [
      "The current value of your 1.2 BTC is $65835.60\n",
      "The current value of your 5.3 ETH is $21937.60\n",
      "The total value of your crypto portfolio is $87773.20\n"
     ]
    }
   ],
   "source": [
    "# Fetch current BTC price\n",
    "btc_data = requests.get(btc_url).json()\n",
    "btc_price = btc_data['data']['1']['quotes']['USD']['price']\n",
    "\n",
    "# Fetch current ETH price\n",
    "eth_data = requests.get(eth_url).json()\n",
    "eth_price = eth_data['data']['1027']['quotes']['USD']['price']\n",
    "\n",
    "# Compute current value of my crpto\n",
    "my_btc_value = my_btc * btc_price\n",
    "my_eth_value = my_eth * eth_price\n",
    "my_crypto_total = my_btc_value + my_eth_value\n",
    "\n",
    "# Print current crypto wallet balance\n",
    "print(f\"The current value of your {my_btc} BTC is ${my_btc_value:0.2f}\")\n",
    "print(f\"The current value of your {my_eth} ETH is ${my_eth_value:0.2f}\")\n",
    "print(f\"The total value of your crypto portfolio is ${my_crypto_total:0.2f}\")"
   ]
  },
  {
   "cell_type": "markdown",
   "metadata": {},
   "source": [
    "### Collect Investments Data Using Alpaca: `SPY` (stocks) and `AGG` (bonds)"
   ]
  },
  {
   "cell_type": "code",
   "execution_count": 6,
   "metadata": {},
   "outputs": [],
   "source": [
    "# Current amount of shares\n",
    "my_agg = 200\n",
    "my_spy = 50"
   ]
  },
  {
   "cell_type": "code",
   "execution_count": 7,
   "metadata": {},
   "outputs": [],
   "source": [
    "# Set Alpaca API key and secret\n",
    "alpaca_key = os.getenv('ALPACA_API_KEY')\n",
    "alpaca_secret = os.getenv('ALPACA_API_SECRET')\n",
    "\n",
    "# Create the Alpaca API object\n",
    "alpaca = tradeapi.REST(alpaca_key, alpaca_secret, api_version = \"v2\")"
   ]
  },
  {
   "cell_type": "code",
   "execution_count": 64,
   "metadata": {},
   "outputs": [
    {
     "data": {
      "text/html": [
       "<div>\n",
       "<style scoped>\n",
       "    .dataframe tbody tr th:only-of-type {\n",
       "        vertical-align: middle;\n",
       "    }\n",
       "\n",
       "    .dataframe tbody tr th {\n",
       "        vertical-align: top;\n",
       "    }\n",
       "\n",
       "    .dataframe thead tr th {\n",
       "        text-align: left;\n",
       "    }\n",
       "\n",
       "    .dataframe thead tr:last-of-type th {\n",
       "        text-align: right;\n",
       "    }\n",
       "</style>\n",
       "<table border=\"1\" class=\"dataframe\">\n",
       "  <thead>\n",
       "    <tr>\n",
       "      <th></th>\n",
       "      <th colspan=\"5\" halign=\"left\">AGG</th>\n",
       "      <th colspan=\"5\" halign=\"left\">SPY</th>\n",
       "    </tr>\n",
       "    <tr>\n",
       "      <th></th>\n",
       "      <th>open</th>\n",
       "      <th>high</th>\n",
       "      <th>low</th>\n",
       "      <th>close</th>\n",
       "      <th>volume</th>\n",
       "      <th>open</th>\n",
       "      <th>high</th>\n",
       "      <th>low</th>\n",
       "      <th>close</th>\n",
       "      <th>volume</th>\n",
       "    </tr>\n",
       "    <tr>\n",
       "      <th>time</th>\n",
       "      <th></th>\n",
       "      <th></th>\n",
       "      <th></th>\n",
       "      <th></th>\n",
       "      <th></th>\n",
       "      <th></th>\n",
       "      <th></th>\n",
       "      <th></th>\n",
       "      <th></th>\n",
       "      <th></th>\n",
       "    </tr>\n",
       "  </thead>\n",
       "  <tbody>\n",
       "    <tr>\n",
       "      <th>2021-05-12 00:00:00-04:00</th>\n",
       "      <td>113.98</td>\n",
       "      <td>114.01</td>\n",
       "      <td>113.83</td>\n",
       "      <td>113.91</td>\n",
       "      <td>4081575</td>\n",
       "      <td>411.23</td>\n",
       "      <td>412.59</td>\n",
       "      <td>406.72</td>\n",
       "      <td>407.48</td>\n",
       "      <td>62036834</td>\n",
       "    </tr>\n",
       "  </tbody>\n",
       "</table>\n",
       "</div>"
      ],
      "text/plain": [
       "                              AGG                                      SPY  \\\n",
       "                             open    high     low   close   volume    open   \n",
       "time                                                                         \n",
       "2021-05-12 00:00:00-04:00  113.98  114.01  113.83  113.91  4081575  411.23   \n",
       "\n",
       "                                                             \n",
       "                             high     low   close    volume  \n",
       "time                                                         \n",
       "2021-05-12 00:00:00-04:00  412.59  406.72  407.48  62036834  "
      ]
     },
     "execution_count": 64,
     "metadata": {},
     "output_type": "execute_result"
    }
   ],
   "source": [
    "# Format current date as ISO format\n",
    "\n",
    "# Set the tickers\n",
    "tickers = [\"AGG\", \"SPY\"]\n",
    "\n",
    "# Set timeframe to '1D' for Alpaca API\n",
    "timeframe = \"1D\"\n",
    "\n",
    "# Get current closing prices for SPY and AGG\n",
    "start = pd.Timestamp('2021-05-12', tz = 'US/Pacific').isoformat()\n",
    "end = pd.Timestamp('2021-05-12', tz = 'US/Pacific').isoformat()\n",
    "spy_agg = alpaca.get_barset(tickers, timeframe, start = start, end = end).df\n",
    "\n",
    "# Preview DataFrame\n",
    "spy_agg"
   ]
  },
  {
   "cell_type": "code",
   "execution_count": 9,
   "metadata": {},
   "outputs": [
    {
     "name": "stdout",
     "output_type": "stream",
     "text": [
      "Current AGG closing price: $113.85\n",
      "Current SPY closing price: $407.77\n"
     ]
    }
   ],
   "source": [
    "# Pick AGG and SPY close prices\n",
    "agg_close_price = spy_agg.iloc[0, 3]\n",
    "spy_close_price = spy_agg.iloc[0, 8]\n",
    "\n",
    "# Print AGG and SPY close prices\n",
    "print(f\"Current AGG closing price: ${agg_close_price}\")\n",
    "print(f\"Current SPY closing price: ${spy_close_price}\")"
   ]
  },
  {
   "cell_type": "code",
   "execution_count": 10,
   "metadata": {},
   "outputs": [
    {
     "name": "stdout",
     "output_type": "stream",
     "text": [
      "The current value of your 50 SPY shares is $20388.50\n",
      "The current value of your 200 AGG shares is $22770.00\n",
      "The total value of your shares is $43158.50\n"
     ]
    }
   ],
   "source": [
    "# Compute the current value of shares\n",
    "my_spy_value = my_spy * spy_close_price\n",
    "my_agg_value = my_agg * agg_close_price\n",
    "my_shares_total = my_agg_value + my_spy_value\n",
    "\n",
    "# Print current value of share\n",
    "print(f\"The current value of your {my_spy} SPY shares is ${my_spy_value:0.2f}\")\n",
    "print(f\"The current value of your {my_agg} AGG shares is ${my_agg_value:0.2f}\")\n",
    "print(f\"The total value of your shares is ${my_shares_total:0.2f}\")"
   ]
  },
  {
   "cell_type": "markdown",
   "metadata": {},
   "source": [
    "### Savings Health Analysis"
   ]
  },
  {
   "cell_type": "code",
   "execution_count": 11,
   "metadata": {},
   "outputs": [
    {
     "data": {
      "text/html": [
       "<div>\n",
       "<style scoped>\n",
       "    .dataframe tbody tr th:only-of-type {\n",
       "        vertical-align: middle;\n",
       "    }\n",
       "\n",
       "    .dataframe tbody tr th {\n",
       "        vertical-align: top;\n",
       "    }\n",
       "\n",
       "    .dataframe thead th {\n",
       "        text-align: right;\n",
       "    }\n",
       "</style>\n",
       "<table border=\"1\" class=\"dataframe\">\n",
       "  <thead>\n",
       "    <tr style=\"text-align: right;\">\n",
       "      <th></th>\n",
       "      <th>amount</th>\n",
       "    </tr>\n",
       "  </thead>\n",
       "  <tbody>\n",
       "    <tr>\n",
       "      <th>crypto</th>\n",
       "      <td>87773.201</td>\n",
       "    </tr>\n",
       "    <tr>\n",
       "      <th>shares</th>\n",
       "      <td>43158.500</td>\n",
       "    </tr>\n",
       "  </tbody>\n",
       "</table>\n",
       "</div>"
      ],
      "text/plain": [
       "           amount\n",
       "crypto  87773.201\n",
       "shares  43158.500"
      ]
     },
     "metadata": {},
     "output_type": "display_data"
    }
   ],
   "source": [
    "# Set monthly household income\n",
    "monthly_income = 12000\n",
    "# Create savings DataFrame\n",
    "savings_data = [{'amount': my_crypto_total}, {'amount': my_shares_total}]\n",
    "df_savings = pd.DataFrame(savings_data, index = ['crypto', 'shares'])\n",
    "\n",
    "# Display savings DataFrame\n",
    "display(df_savings)"
   ]
  },
  {
   "cell_type": "code",
   "execution_count": 12,
   "metadata": {},
   "outputs": [
    {
     "data": {
      "text/plain": [
       "<AxesSubplot:ylabel='amount'>"
      ]
     },
     "execution_count": 12,
     "metadata": {},
     "output_type": "execute_result"
    },
    {
     "data": {
      "image/png": "[encoded data removed]",
      "text/plain": [
       "<Figure size 300x300 with 1 Axes>"
      ]
     },
     "metadata": {},
     "output_type": "display_data"
    }
   ],
   "source": [
    "# Plot savings pie chart\n",
    "df_savings.plot.pie(y = 'amount', figsize = (3, 3))"
   ]
  },
  {
   "cell_type": "code",
   "execution_count": 13,
   "metadata": {},
   "outputs": [
    {
     "name": "stdout",
     "output_type": "stream",
     "text": [
      "Congratulations, you have enough savings!\n"
     ]
    }
   ],
   "source": [
    "# Set ideal emergency fund\n",
    "emergency_fund = monthly_income * 3\n",
    "\n",
    "# Calculate total amount of savings\n",
    "savings_total = my_crypto_total + my_shares_total\n",
    "\n",
    "# Validate saving health\n",
    "print(\"Congratulations, you have enough savings!\") if savings_total > emergency_fund else print(f\"Must increase savings by ${emergency_fund - savings_total}\")"
   ]
  },
  {
   "cell_type": "markdown",
   "metadata": {},
   "source": [
    "## Part 2 - Retirement Planning\n",
    "\n",
    "### Monte Carlo Simulation"
   ]
  },
  {
   "cell_type": "code",
   "execution_count": 14,
   "metadata": {},
   "outputs": [],
   "source": [
    "# Set start and end dates of five years back from today.\n",
    "# Sample results may vary from the solution based on the time frame chosen\n",
    "start_date = pd.Timestamp('2016-05-12', tz='America/New_York').isoformat()\n",
    "end_date = pd.Timestamp('2021-05-12', tz='America/New_York').isoformat()"
   ]
  },
  {
   "cell_type": "code",
   "execution_count": 38,
   "metadata": {},
   "outputs": [
    {
     "data": {
      "text/html": [
       "<div>\n",
       "<style scoped>\n",
       "    .dataframe tbody tr th:only-of-type {\n",
       "        vertical-align: middle;\n",
       "    }\n",
       "\n",
       "    .dataframe tbody tr th {\n",
       "        vertical-align: top;\n",
       "    }\n",
       "\n",
       "    .dataframe thead tr th {\n",
       "        text-align: left;\n",
       "    }\n",
       "\n",
       "    .dataframe thead tr:last-of-type th {\n",
       "        text-align: right;\n",
       "    }\n",
       "</style>\n",
       "<table border=\"1\" class=\"dataframe\">\n",
       "  <thead>\n",
       "    <tr>\n",
       "      <th></th>\n",
       "      <th colspan=\"5\" halign=\"left\">AGG</th>\n",
       "      <th colspan=\"5\" halign=\"left\">SPY</th>\n",
       "    </tr>\n",
       "    <tr>\n",
       "      <th></th>\n",
       "      <th>open</th>\n",
       "      <th>high</th>\n",
       "      <th>low</th>\n",
       "      <th>close</th>\n",
       "      <th>volume</th>\n",
       "      <th>open</th>\n",
       "      <th>high</th>\n",
       "      <th>low</th>\n",
       "      <th>close</th>\n",
       "      <th>volume</th>\n",
       "    </tr>\n",
       "    <tr>\n",
       "      <th>time</th>\n",
       "      <th></th>\n",
       "      <th></th>\n",
       "      <th></th>\n",
       "      <th></th>\n",
       "      <th></th>\n",
       "      <th></th>\n",
       "      <th></th>\n",
       "      <th></th>\n",
       "      <th></th>\n",
       "      <th></th>\n",
       "    </tr>\n",
       "  </thead>\n",
       "  <tbody>\n",
       "    <tr>\n",
       "      <th>2021-04-22 00:00:00-04:00</th>\n",
       "      <td>114.74</td>\n",
       "      <td>114.8000</td>\n",
       "      <td>114.5900</td>\n",
       "      <td>114.77</td>\n",
       "      <td>3518947.0</td>\n",
       "      <td>415.88</td>\n",
       "      <td>416.78</td>\n",
       "      <td>411.1300</td>\n",
       "      <td>412.30</td>\n",
       "      <td>90085820.0</td>\n",
       "    </tr>\n",
       "    <tr>\n",
       "      <th>2018-03-12 00:00:00-04:00</th>\n",
       "      <td>106.43</td>\n",
       "      <td>106.4900</td>\n",
       "      <td>106.3700</td>\n",
       "      <td>106.44</td>\n",
       "      <td>3185932.0</td>\n",
       "      <td>279.20</td>\n",
       "      <td>279.91</td>\n",
       "      <td>278.0801</td>\n",
       "      <td>278.50</td>\n",
       "      <td>44169227.0</td>\n",
       "    </tr>\n",
       "    <tr>\n",
       "      <th>2018-11-06 00:00:00-05:00</th>\n",
       "      <td>104.09</td>\n",
       "      <td>104.1699</td>\n",
       "      <td>104.0635</td>\n",
       "      <td>104.10</td>\n",
       "      <td>2442244.0</td>\n",
       "      <td>273.32</td>\n",
       "      <td>275.30</td>\n",
       "      <td>273.2500</td>\n",
       "      <td>275.12</td>\n",
       "      <td>49731823.0</td>\n",
       "    </tr>\n",
       "    <tr>\n",
       "      <th>2020-10-06 00:00:00-04:00</th>\n",
       "      <td>117.60</td>\n",
       "      <td>117.8400</td>\n",
       "      <td>117.4900</td>\n",
       "      <td>117.61</td>\n",
       "      <td>3973998.0</td>\n",
       "      <td>339.92</td>\n",
       "      <td>342.17</td>\n",
       "      <td>334.3800</td>\n",
       "      <td>334.94</td>\n",
       "      <td>74231873.0</td>\n",
       "    </tr>\n",
       "    <tr>\n",
       "      <th>2019-08-08 00:00:00-04:00</th>\n",
       "      <td>112.51</td>\n",
       "      <td>112.8200</td>\n",
       "      <td>112.3300</td>\n",
       "      <td>112.78</td>\n",
       "      <td>3340919.0</td>\n",
       "      <td>289.62</td>\n",
       "      <td>293.56</td>\n",
       "      <td>289.0100</td>\n",
       "      <td>293.55</td>\n",
       "      <td>70688282.0</td>\n",
       "    </tr>\n",
       "  </tbody>\n",
       "</table>\n",
       "</div>"
      ],
      "text/plain": [
       "                              AGG                                         \\\n",
       "                             open      high       low   close     volume   \n",
       "time                                                                       \n",
       "2021-04-22 00:00:00-04:00  114.74  114.8000  114.5900  114.77  3518947.0   \n",
       "2018-03-12 00:00:00-04:00  106.43  106.4900  106.3700  106.44  3185932.0   \n",
       "2018-11-06 00:00:00-05:00  104.09  104.1699  104.0635  104.10  2442244.0   \n",
       "2020-10-06 00:00:00-04:00  117.60  117.8400  117.4900  117.61  3973998.0   \n",
       "2019-08-08 00:00:00-04:00  112.51  112.8200  112.3300  112.78  3340919.0   \n",
       "\n",
       "                              SPY                                        \n",
       "                             open    high       low   close      volume  \n",
       "time                                                                     \n",
       "2021-04-22 00:00:00-04:00  415.88  416.78  411.1300  412.30  90085820.0  \n",
       "2018-03-12 00:00:00-04:00  279.20  279.91  278.0801  278.50  44169227.0  \n",
       "2018-11-06 00:00:00-05:00  273.32  275.30  273.2500  275.12  49731823.0  \n",
       "2020-10-06 00:00:00-04:00  339.92  342.17  334.3800  334.94  74231873.0  \n",
       "2019-08-08 00:00:00-04:00  289.62  293.56  289.0100  293.55  70688282.0  "
      ]
     },
     "execution_count": 38,
     "metadata": {},
     "output_type": "execute_result"
    }
   ],
   "source": [
    "# Get 5 years' worth of historical data for SPY and AGG\n",
    "# YOUR CODE HERE!\n",
    "timeframe = '1D'\n",
    "df_stock_data = alpaca.get_barset(tickers, timeframe, start = start_date, end = end_date, limit = 1000).df\n",
    "\n",
    "# Display sample data\n",
    "df_stock_data.sample(5)"
   ]
  },
  {
   "cell_type": "raw",
   "metadata": {},
   "source": [
    "Use the Alpaca API to fetch five years historical closing prices for a traditional 40/60 portfolio using the SPY and AGG tickers to represent the 60% stocks (SPY) and 40% bonds (AGG) composition of the portfolio. Make sure to convert the API output to a DataFrame and preview the output.\n",
    "\n",
    "\n",
    "Configure and execute a Monte Carlo Simulation of 500 runs and 30 years for the 40/60 portfolio.\n",
    "\n",
    "\n",
    "Plot the simulation results and the probability distribution/confidence intervals."
   ]
  },
  {
   "cell_type": "code",
   "execution_count": 40,
   "metadata": {},
   "outputs": [],
   "source": [
    "# Configuring a Monte Carlo simulation to forecast 30 years cumulative returns\n",
    "# YOUR CODE HERE!\n",
    "mc_sim_30 = MCSimulation(df_stock_data, [.4, .6], 500, 252 * 30)\n"
   ]
  },
  {
   "cell_type": "code",
   "execution_count": 41,
   "metadata": {},
   "outputs": [
    {
     "data": {
      "text/html": [
       "<div>\n",
       "<style scoped>\n",
       "    .dataframe tbody tr th:only-of-type {\n",
       "        vertical-align: middle;\n",
       "    }\n",
       "\n",
       "    .dataframe tbody tr th {\n",
       "        vertical-align: top;\n",
       "    }\n",
       "\n",
       "    .dataframe thead tr th {\n",
       "        text-align: left;\n",
       "    }\n",
       "\n",
       "    .dataframe thead tr:last-of-type th {\n",
       "        text-align: right;\n",
       "    }\n",
       "</style>\n",
       "<table border=\"1\" class=\"dataframe\">\n",
       "  <thead>\n",
       "    <tr>\n",
       "      <th></th>\n",
       "      <th colspan=\"5\" halign=\"left\">AGG</th>\n",
       "      <th colspan=\"5\" halign=\"left\">SPY</th>\n",
       "    </tr>\n",
       "    <tr>\n",
       "      <th></th>\n",
       "      <th>open</th>\n",
       "      <th>high</th>\n",
       "      <th>low</th>\n",
       "      <th>close</th>\n",
       "      <th>volume</th>\n",
       "      <th>open</th>\n",
       "      <th>high</th>\n",
       "      <th>low</th>\n",
       "      <th>close</th>\n",
       "      <th>volume</th>\n",
       "    </tr>\n",
       "    <tr>\n",
       "      <th>time</th>\n",
       "      <th></th>\n",
       "      <th></th>\n",
       "      <th></th>\n",
       "      <th></th>\n",
       "      <th></th>\n",
       "      <th></th>\n",
       "      <th></th>\n",
       "      <th></th>\n",
       "      <th></th>\n",
       "      <th></th>\n",
       "    </tr>\n",
       "  </thead>\n",
       "  <tbody>\n",
       "    <tr>\n",
       "      <th>2017-05-22 00:00:00-04:00</th>\n",
       "      <td>109.43</td>\n",
       "      <td>109.48</td>\n",
       "      <td>109.4000</td>\n",
       "      <td>109.440</td>\n",
       "      <td>1199164.0</td>\n",
       "      <td>NaN</td>\n",
       "      <td>NaN</td>\n",
       "      <td>NaN</td>\n",
       "      <td>NaN</td>\n",
       "      <td>NaN</td>\n",
       "    </tr>\n",
       "    <tr>\n",
       "      <th>2017-05-23 00:00:00-04:00</th>\n",
       "      <td>109.50</td>\n",
       "      <td>109.53</td>\n",
       "      <td>109.2100</td>\n",
       "      <td>109.240</td>\n",
       "      <td>1194872.0</td>\n",
       "      <td>239.95</td>\n",
       "      <td>240.240</td>\n",
       "      <td>239.510</td>\n",
       "      <td>240.02</td>\n",
       "      <td>36771135.0</td>\n",
       "    </tr>\n",
       "    <tr>\n",
       "      <th>2017-05-24 00:00:00-04:00</th>\n",
       "      <td>109.25</td>\n",
       "      <td>109.50</td>\n",
       "      <td>109.2115</td>\n",
       "      <td>109.450</td>\n",
       "      <td>2325960.0</td>\n",
       "      <td>240.32</td>\n",
       "      <td>240.730</td>\n",
       "      <td>239.930</td>\n",
       "      <td>240.59</td>\n",
       "      <td>37423590.0</td>\n",
       "    </tr>\n",
       "    <tr>\n",
       "      <th>2017-05-25 00:00:00-04:00</th>\n",
       "      <td>109.45</td>\n",
       "      <td>109.49</td>\n",
       "      <td>109.3701</td>\n",
       "      <td>109.460</td>\n",
       "      <td>1382257.0</td>\n",
       "      <td>241.20</td>\n",
       "      <td>242.080</td>\n",
       "      <td>240.960</td>\n",
       "      <td>241.71</td>\n",
       "      <td>45278321.0</td>\n",
       "    </tr>\n",
       "    <tr>\n",
       "      <th>2017-05-26 00:00:00-04:00</th>\n",
       "      <td>109.46</td>\n",
       "      <td>109.54</td>\n",
       "      <td>109.4400</td>\n",
       "      <td>109.480</td>\n",
       "      <td>853245.0</td>\n",
       "      <td>241.55</td>\n",
       "      <td>241.900</td>\n",
       "      <td>241.450</td>\n",
       "      <td>241.74</td>\n",
       "      <td>30002081.0</td>\n",
       "    </tr>\n",
       "    <tr>\n",
       "      <th>...</th>\n",
       "      <td>...</td>\n",
       "      <td>...</td>\n",
       "      <td>...</td>\n",
       "      <td>...</td>\n",
       "      <td>...</td>\n",
       "      <td>...</td>\n",
       "      <td>...</td>\n",
       "      <td>...</td>\n",
       "      <td>...</td>\n",
       "      <td>...</td>\n",
       "    </tr>\n",
       "    <tr>\n",
       "      <th>2021-05-06 00:00:00-04:00</th>\n",
       "      <td>114.55</td>\n",
       "      <td>114.71</td>\n",
       "      <td>114.5300</td>\n",
       "      <td>114.650</td>\n",
       "      <td>4557111.0</td>\n",
       "      <td>415.83</td>\n",
       "      <td>419.210</td>\n",
       "      <td>413.675</td>\n",
       "      <td>419.08</td>\n",
       "      <td>65397203.0</td>\n",
       "    </tr>\n",
       "    <tr>\n",
       "      <th>2021-05-07 00:00:00-04:00</th>\n",
       "      <td>114.85</td>\n",
       "      <td>114.97</td>\n",
       "      <td>114.5700</td>\n",
       "      <td>114.645</td>\n",
       "      <td>6812067.0</td>\n",
       "      <td>419.89</td>\n",
       "      <td>422.815</td>\n",
       "      <td>419.160</td>\n",
       "      <td>422.09</td>\n",
       "      <td>58000019.0</td>\n",
       "    </tr>\n",
       "    <tr>\n",
       "      <th>2021-05-10 00:00:00-04:00</th>\n",
       "      <td>114.61</td>\n",
       "      <td>114.72</td>\n",
       "      <td>114.4000</td>\n",
       "      <td>114.430</td>\n",
       "      <td>4737895.0</td>\n",
       "      <td>422.50</td>\n",
       "      <td>422.740</td>\n",
       "      <td>417.810</td>\n",
       "      <td>417.98</td>\n",
       "      <td>72071656.0</td>\n",
       "    </tr>\n",
       "    <tr>\n",
       "      <th>2021-05-11 00:00:00-04:00</th>\n",
       "      <td>114.23</td>\n",
       "      <td>114.38</td>\n",
       "      <td>114.1300</td>\n",
       "      <td>114.190</td>\n",
       "      <td>5986487.0</td>\n",
       "      <td>413.10</td>\n",
       "      <td>415.270</td>\n",
       "      <td>410.060</td>\n",
       "      <td>414.27</td>\n",
       "      <td>105794428.0</td>\n",
       "    </tr>\n",
       "    <tr>\n",
       "      <th>2021-05-12 00:00:00-04:00</th>\n",
       "      <td>113.98</td>\n",
       "      <td>114.01</td>\n",
       "      <td>113.8300</td>\n",
       "      <td>113.840</td>\n",
       "      <td>3720345.0</td>\n",
       "      <td>411.23</td>\n",
       "      <td>412.590</td>\n",
       "      <td>406.720</td>\n",
       "      <td>407.96</td>\n",
       "      <td>57873729.0</td>\n",
       "    </tr>\n",
       "  </tbody>\n",
       "</table>\n",
       "<p>1001 rows × 10 columns</p>\n",
       "</div>"
      ],
      "text/plain": [
       "                              AGG                                        \\\n",
       "                             open    high       low    close     volume   \n",
       "time                                                                      \n",
       "2017-05-22 00:00:00-04:00  109.43  109.48  109.4000  109.440  1199164.0   \n",
       "2017-05-23 00:00:00-04:00  109.50  109.53  109.2100  109.240  1194872.0   \n",
       "2017-05-24 00:00:00-04:00  109.25  109.50  109.2115  109.450  2325960.0   \n",
       "2017-05-25 00:00:00-04:00  109.45  109.49  109.3701  109.460  1382257.0   \n",
       "2017-05-26 00:00:00-04:00  109.46  109.54  109.4400  109.480   853245.0   \n",
       "...                           ...     ...       ...      ...        ...   \n",
       "2021-05-06 00:00:00-04:00  114.55  114.71  114.5300  114.650  4557111.0   \n",
       "2021-05-07 00:00:00-04:00  114.85  114.97  114.5700  114.645  6812067.0   \n",
       "2021-05-10 00:00:00-04:00  114.61  114.72  114.4000  114.430  4737895.0   \n",
       "2021-05-11 00:00:00-04:00  114.23  114.38  114.1300  114.190  5986487.0   \n",
       "2021-05-12 00:00:00-04:00  113.98  114.01  113.8300  113.840  3720345.0   \n",
       "\n",
       "                              SPY                                         \n",
       "                             open     high      low   close       volume  \n",
       "time                                                                      \n",
       "2017-05-22 00:00:00-04:00     NaN      NaN      NaN     NaN          NaN  \n",
       "2017-05-23 00:00:00-04:00  239.95  240.240  239.510  240.02   36771135.0  \n",
       "2017-05-24 00:00:00-04:00  240.32  240.730  239.930  240.59   37423590.0  \n",
       "2017-05-25 00:00:00-04:00  241.20  242.080  240.960  241.71   45278321.0  \n",
       "2017-05-26 00:00:00-04:00  241.55  241.900  241.450  241.74   30002081.0  \n",
       "...                           ...      ...      ...     ...          ...  \n",
       "2021-05-06 00:00:00-04:00  415.83  419.210  413.675  419.08   65397203.0  \n",
       "2021-05-07 00:00:00-04:00  419.89  422.815  419.160  422.09   58000019.0  \n",
       "2021-05-10 00:00:00-04:00  422.50  422.740  417.810  417.98   72071656.0  \n",
       "2021-05-11 00:00:00-04:00  413.10  415.270  410.060  414.27  105794428.0  \n",
       "2021-05-12 00:00:00-04:00  411.23  412.590  406.720  407.96   57873729.0  \n",
       "\n",
       "[1001 rows x 10 columns]"
      ]
     },
     "execution_count": 41,
     "metadata": {},
     "output_type": "execute_result"
    }
   ],
   "source": [
    "# Printing the simulation input data\n",
    "# YOUR CODE HERE!\n",
    "df_stock_data"
   ]
  },
  {
   "cell_type": "code",
   "execution_count": 42,
   "metadata": {},
   "outputs": [
    {
     "name": "stdout",
     "output_type": "stream",
     "text": [
      "Running Monte Carlo simulation number 0.\n",
      "Running Monte Carlo simulation number 10.\n",
      "Running Monte Carlo simulation number 20.\n",
      "Running Monte Carlo simulation number 30.\n",
      "Running Monte Carlo simulation number 40.\n",
      "Running Monte Carlo simulation number 50.\n",
      "Running Monte Carlo simulation number 60.\n",
      "Running Monte Carlo simulation number 70.\n",
      "Running Monte Carlo simulation number 80.\n",
      "Running Monte Carlo simulation number 90.\n",
      "Running Monte Carlo simulation number 100.\n",
      "Running Monte Carlo simulation number 110.\n",
      "Running Monte Carlo simulation number 120.\n",
      "Running Monte Carlo simulation number 130.\n",
      "Running Monte Carlo simulation number 140.\n",
      "Running Monte Carlo simulation number 150.\n",
      "Running Monte Carlo simulation number 160.\n",
      "Running Monte Carlo simulation number 170.\n",
      "Running Monte Carlo simulation number 180.\n",
      "Running Monte Carlo simulation number 190.\n",
      "Running Monte Carlo simulation number 200.\n",
      "Running Monte Carlo simulation number 210.\n",
      "Running Monte Carlo simulation number 220.\n",
      "Running Monte Carlo simulation number 230.\n",
      "Running Monte Carlo simulation number 240.\n",
      "Running Monte Carlo simulation number 250.\n",
      "Running Monte Carlo simulation number 260.\n",
      "Running Monte Carlo simulation number 270.\n",
      "Running Monte Carlo simulation number 280.\n",
      "Running Monte Carlo simulation number 290.\n",
      "Running Monte Carlo simulation number 300.\n",
      "Running Monte Carlo simulation number 310.\n",
      "Running Monte Carlo simulation number 320.\n",
      "Running Monte Carlo simulation number 330.\n",
      "Running Monte Carlo simulation number 340.\n",
      "Running Monte Carlo simulation number 350.\n",
      "Running Monte Carlo simulation number 360.\n",
      "Running Monte Carlo simulation number 370.\n",
      "Running Monte Carlo simulation number 380.\n",
      "Running Monte Carlo simulation number 390.\n",
      "Running Monte Carlo simulation number 400.\n",
      "Running Monte Carlo simulation number 410.\n",
      "Running Monte Carlo simulation number 420.\n",
      "Running Monte Carlo simulation number 430.\n",
      "Running Monte Carlo simulation number 440.\n",
      "Running Monte Carlo simulation number 450.\n",
      "Running Monte Carlo simulation number 460.\n",
      "Running Monte Carlo simulation number 470.\n",
      "Running Monte Carlo simulation number 480.\n",
      "Running Monte Carlo simulation number 490.\n"
     ]
    },
    {
     "data": {
      "text/html": [
       "<div>\n",
       "<style scoped>\n",
       "    .dataframe tbody tr th:only-of-type {\n",
       "        vertical-align: middle;\n",
       "    }\n",
       "\n",
       "    .dataframe tbody tr th {\n",
       "        vertical-align: top;\n",
       "    }\n",
       "\n",
       "    .dataframe thead th {\n",
       "        text-align: right;\n",
       "    }\n",
       "</style>\n",
       "<table border=\"1\" class=\"dataframe\">\n",
       "  <thead>\n",
       "    <tr style=\"text-align: right;\">\n",
       "      <th></th>\n",
       "      <th>0</th>\n",
       "      <th>1</th>\n",
       "      <th>2</th>\n",
       "      <th>3</th>\n",
       "      <th>4</th>\n",
       "      <th>5</th>\n",
       "      <th>6</th>\n",
       "      <th>7</th>\n",
       "      <th>8</th>\n",
       "      <th>9</th>\n",
       "      <th>...</th>\n",
       "      <th>490</th>\n",
       "      <th>491</th>\n",
       "      <th>492</th>\n",
       "      <th>493</th>\n",
       "      <th>494</th>\n",
       "      <th>495</th>\n",
       "      <th>496</th>\n",
       "      <th>497</th>\n",
       "      <th>498</th>\n",
       "      <th>499</th>\n",
       "    </tr>\n",
       "  </thead>\n",
       "  <tbody>\n",
       "    <tr>\n",
       "      <th>0</th>\n",
       "      <td>1.000000</td>\n",
       "      <td>1.000000</td>\n",
       "      <td>1.000000</td>\n",
       "      <td>1.000000</td>\n",
       "      <td>1.000000</td>\n",
       "      <td>1.000000</td>\n",
       "      <td>1.000000</td>\n",
       "      <td>1.000000</td>\n",
       "      <td>1.000000</td>\n",
       "      <td>1.000000</td>\n",
       "      <td>...</td>\n",
       "      <td>1.000000</td>\n",
       "      <td>1.000000</td>\n",
       "      <td>1.000000</td>\n",
       "      <td>1.000000</td>\n",
       "      <td>1.000000</td>\n",
       "      <td>1.000000</td>\n",
       "      <td>1.000000</td>\n",
       "      <td>1.000000</td>\n",
       "      <td>1.000000</td>\n",
       "      <td>1.000000</td>\n",
       "    </tr>\n",
       "    <tr>\n",
       "      <th>1</th>\n",
       "      <td>1.002546</td>\n",
       "      <td>0.996275</td>\n",
       "      <td>1.007781</td>\n",
       "      <td>0.995063</td>\n",
       "      <td>0.999743</td>\n",
       "      <td>0.999536</td>\n",
       "      <td>1.006604</td>\n",
       "      <td>1.001151</td>\n",
       "      <td>1.002556</td>\n",
       "      <td>0.995421</td>\n",
       "      <td>...</td>\n",
       "      <td>0.994137</td>\n",
       "      <td>1.006459</td>\n",
       "      <td>1.005608</td>\n",
       "      <td>0.998200</td>\n",
       "      <td>0.996471</td>\n",
       "      <td>0.996726</td>\n",
       "      <td>1.000723</td>\n",
       "      <td>0.997204</td>\n",
       "      <td>1.004674</td>\n",
       "      <td>0.994763</td>\n",
       "    </tr>\n",
       "    <tr>\n",
       "      <th>2</th>\n",
       "      <td>1.007845</td>\n",
       "      <td>0.997782</td>\n",
       "      <td>0.995548</td>\n",
       "      <td>1.000497</td>\n",
       "      <td>1.005598</td>\n",
       "      <td>0.997952</td>\n",
       "      <td>1.004786</td>\n",
       "      <td>0.994249</td>\n",
       "      <td>1.006596</td>\n",
       "      <td>0.995889</td>\n",
       "      <td>...</td>\n",
       "      <td>1.000001</td>\n",
       "      <td>1.005406</td>\n",
       "      <td>1.016392</td>\n",
       "      <td>1.007547</td>\n",
       "      <td>0.986299</td>\n",
       "      <td>0.998841</td>\n",
       "      <td>1.007303</td>\n",
       "      <td>1.002459</td>\n",
       "      <td>1.002270</td>\n",
       "      <td>0.987184</td>\n",
       "    </tr>\n",
       "    <tr>\n",
       "      <th>3</th>\n",
       "      <td>1.020519</td>\n",
       "      <td>0.999147</td>\n",
       "      <td>0.997645</td>\n",
       "      <td>1.003914</td>\n",
       "      <td>1.001624</td>\n",
       "      <td>1.002279</td>\n",
       "      <td>0.997228</td>\n",
       "      <td>1.013615</td>\n",
       "      <td>1.015584</td>\n",
       "      <td>0.980046</td>\n",
       "      <td>...</td>\n",
       "      <td>0.996287</td>\n",
       "      <td>1.006973</td>\n",
       "      <td>1.025942</td>\n",
       "      <td>1.006544</td>\n",
       "      <td>0.977961</td>\n",
       "      <td>0.994700</td>\n",
       "      <td>1.006931</td>\n",
       "      <td>0.997250</td>\n",
       "      <td>0.997794</td>\n",
       "      <td>0.981060</td>\n",
       "    </tr>\n",
       "    <tr>\n",
       "      <th>4</th>\n",
       "      <td>1.038562</td>\n",
       "      <td>0.997546</td>\n",
       "      <td>1.006570</td>\n",
       "      <td>1.013723</td>\n",
       "      <td>1.005110</td>\n",
       "      <td>1.007009</td>\n",
       "      <td>0.999121</td>\n",
       "      <td>1.024402</td>\n",
       "      <td>1.021541</td>\n",
       "      <td>0.982770</td>\n",
       "      <td>...</td>\n",
       "      <td>0.997145</td>\n",
       "      <td>1.003245</td>\n",
       "      <td>1.036030</td>\n",
       "      <td>1.012862</td>\n",
       "      <td>0.973469</td>\n",
       "      <td>0.994643</td>\n",
       "      <td>1.004904</td>\n",
       "      <td>0.982615</td>\n",
       "      <td>0.990981</td>\n",
       "      <td>0.989256</td>\n",
       "    </tr>\n",
       "    <tr>\n",
       "      <th>...</th>\n",
       "      <td>...</td>\n",
       "      <td>...</td>\n",
       "      <td>...</td>\n",
       "      <td>...</td>\n",
       "      <td>...</td>\n",
       "      <td>...</td>\n",
       "      <td>...</td>\n",
       "      <td>...</td>\n",
       "      <td>...</td>\n",
       "      <td>...</td>\n",
       "      <td>...</td>\n",
       "      <td>...</td>\n",
       "      <td>...</td>\n",
       "      <td>...</td>\n",
       "      <td>...</td>\n",
       "      <td>...</td>\n",
       "      <td>...</td>\n",
       "      <td>...</td>\n",
       "      <td>...</td>\n",
       "      <td>...</td>\n",
       "      <td>...</td>\n",
       "    </tr>\n",
       "    <tr>\n",
       "      <th>7556</th>\n",
       "      <td>32.794200</td>\n",
       "      <td>22.115097</td>\n",
       "      <td>20.880739</td>\n",
       "      <td>6.542038</td>\n",
       "      <td>20.526926</td>\n",
       "      <td>13.081075</td>\n",
       "      <td>21.744218</td>\n",
       "      <td>18.214838</td>\n",
       "      <td>27.632141</td>\n",
       "      <td>16.740291</td>\n",
       "      <td>...</td>\n",
       "      <td>5.059977</td>\n",
       "      <td>43.122181</td>\n",
       "      <td>4.823644</td>\n",
       "      <td>16.740499</td>\n",
       "      <td>29.539875</td>\n",
       "      <td>45.521274</td>\n",
       "      <td>23.440661</td>\n",
       "      <td>6.524042</td>\n",
       "      <td>19.375394</td>\n",
       "      <td>26.728418</td>\n",
       "    </tr>\n",
       "    <tr>\n",
       "      <th>7557</th>\n",
       "      <td>32.725556</td>\n",
       "      <td>21.878279</td>\n",
       "      <td>20.952112</td>\n",
       "      <td>6.585561</td>\n",
       "      <td>20.632195</td>\n",
       "      <td>12.937648</td>\n",
       "      <td>21.667355</td>\n",
       "      <td>18.316790</td>\n",
       "      <td>27.601091</td>\n",
       "      <td>16.774907</td>\n",
       "      <td>...</td>\n",
       "      <td>5.094759</td>\n",
       "      <td>42.546898</td>\n",
       "      <td>4.819727</td>\n",
       "      <td>16.599363</td>\n",
       "      <td>29.582097</td>\n",
       "      <td>45.963268</td>\n",
       "      <td>23.710193</td>\n",
       "      <td>6.584491</td>\n",
       "      <td>19.221863</td>\n",
       "      <td>26.552846</td>\n",
       "    </tr>\n",
       "    <tr>\n",
       "      <th>7558</th>\n",
       "      <td>32.317820</td>\n",
       "      <td>21.840662</td>\n",
       "      <td>20.904614</td>\n",
       "      <td>6.540688</td>\n",
       "      <td>20.828813</td>\n",
       "      <td>12.926553</td>\n",
       "      <td>21.331536</td>\n",
       "      <td>18.384086</td>\n",
       "      <td>27.530490</td>\n",
       "      <td>16.695486</td>\n",
       "      <td>...</td>\n",
       "      <td>5.180416</td>\n",
       "      <td>42.246916</td>\n",
       "      <td>4.824312</td>\n",
       "      <td>16.543482</td>\n",
       "      <td>29.850683</td>\n",
       "      <td>45.500803</td>\n",
       "      <td>23.915631</td>\n",
       "      <td>6.578212</td>\n",
       "      <td>19.235878</td>\n",
       "      <td>26.829186</td>\n",
       "    </tr>\n",
       "    <tr>\n",
       "      <th>7559</th>\n",
       "      <td>31.922653</td>\n",
       "      <td>21.874824</td>\n",
       "      <td>20.838228</td>\n",
       "      <td>6.589033</td>\n",
       "      <td>20.838274</td>\n",
       "      <td>12.917737</td>\n",
       "      <td>21.407329</td>\n",
       "      <td>18.536338</td>\n",
       "      <td>27.531347</td>\n",
       "      <td>16.730392</td>\n",
       "      <td>...</td>\n",
       "      <td>5.164127</td>\n",
       "      <td>42.559540</td>\n",
       "      <td>4.851806</td>\n",
       "      <td>16.571575</td>\n",
       "      <td>30.036830</td>\n",
       "      <td>45.327953</td>\n",
       "      <td>23.915396</td>\n",
       "      <td>6.630672</td>\n",
       "      <td>19.350978</td>\n",
       "      <td>26.558779</td>\n",
       "    </tr>\n",
       "    <tr>\n",
       "      <th>7560</th>\n",
       "      <td>31.643553</td>\n",
       "      <td>21.828670</td>\n",
       "      <td>21.109966</td>\n",
       "      <td>6.553182</td>\n",
       "      <td>20.647619</td>\n",
       "      <td>13.058469</td>\n",
       "      <td>21.277217</td>\n",
       "      <td>18.758180</td>\n",
       "      <td>27.265025</td>\n",
       "      <td>16.799627</td>\n",
       "      <td>...</td>\n",
       "      <td>5.165055</td>\n",
       "      <td>42.029934</td>\n",
       "      <td>4.930036</td>\n",
       "      <td>16.585288</td>\n",
       "      <td>30.037206</td>\n",
       "      <td>45.506358</td>\n",
       "      <td>24.231106</td>\n",
       "      <td>6.568988</td>\n",
       "      <td>19.215324</td>\n",
       "      <td>26.599595</td>\n",
       "    </tr>\n",
       "  </tbody>\n",
       "</table>\n",
       "<p>7561 rows × 500 columns</p>\n",
       "</div>"
      ],
      "text/plain": [
       "            0          1          2         3          4          5    \\\n",
       "0      1.000000   1.000000   1.000000  1.000000   1.000000   1.000000   \n",
       "1      1.002546   0.996275   1.007781  0.995063   0.999743   0.999536   \n",
       "2      1.007845   0.997782   0.995548  1.000497   1.005598   0.997952   \n",
       "3      1.020519   0.999147   0.997645  1.003914   1.001624   1.002279   \n",
       "4      1.038562   0.997546   1.006570  1.013723   1.005110   1.007009   \n",
       "...         ...        ...        ...       ...        ...        ...   \n",
       "7556  32.794200  22.115097  20.880739  6.542038  20.526926  13.081075   \n",
       "7557  32.725556  21.878279  20.952112  6.585561  20.632195  12.937648   \n",
       "7558  32.317820  21.840662  20.904614  6.540688  20.828813  12.926553   \n",
       "7559  31.922653  21.874824  20.838228  6.589033  20.838274  12.917737   \n",
       "7560  31.643553  21.828670  21.109966  6.553182  20.647619  13.058469   \n",
       "\n",
       "            6          7          8          9    ...       490        491  \\\n",
       "0      1.000000   1.000000   1.000000   1.000000  ...  1.000000   1.000000   \n",
       "1      1.006604   1.001151   1.002556   0.995421  ...  0.994137   1.006459   \n",
       "2      1.004786   0.994249   1.006596   0.995889  ...  1.000001   1.005406   \n",
       "3      0.997228   1.013615   1.015584   0.980046  ...  0.996287   1.006973   \n",
       "4      0.999121   1.024402   1.021541   0.982770  ...  0.997145   1.003245   \n",
       "...         ...        ...        ...        ...  ...       ...        ...   \n",
       "7556  21.744218  18.214838  27.632141  16.740291  ...  5.059977  43.122181   \n",
       "7557  21.667355  18.316790  27.601091  16.774907  ...  5.094759  42.546898   \n",
       "7558  21.331536  18.384086  27.530490  16.695486  ...  5.180416  42.246916   \n",
       "7559  21.407329  18.536338  27.531347  16.730392  ...  5.164127  42.559540   \n",
       "7560  21.277217  18.758180  27.265025  16.799627  ...  5.165055  42.029934   \n",
       "\n",
       "           492        493        494        495        496       497  \\\n",
       "0     1.000000   1.000000   1.000000   1.000000   1.000000  1.000000   \n",
       "1     1.005608   0.998200   0.996471   0.996726   1.000723  0.997204   \n",
       "2     1.016392   1.007547   0.986299   0.998841   1.007303  1.002459   \n",
       "3     1.025942   1.006544   0.977961   0.994700   1.006931  0.997250   \n",
       "4     1.036030   1.012862   0.973469   0.994643   1.004904  0.982615   \n",
       "...        ...        ...        ...        ...        ...       ...   \n",
       "7556  4.823644  16.740499  29.539875  45.521274  23.440661  6.524042   \n",
       "7557  4.819727  16.599363  29.582097  45.963268  23.710193  6.584491   \n",
       "7558  4.824312  16.543482  29.850683  45.500803  23.915631  6.578212   \n",
       "7559  4.851806  16.571575  30.036830  45.327953  23.915396  6.630672   \n",
       "7560  4.930036  16.585288  30.037206  45.506358  24.231106  6.568988   \n",
       "\n",
       "            498        499  \n",
       "0      1.000000   1.000000  \n",
       "1      1.004674   0.994763  \n",
       "2      1.002270   0.987184  \n",
       "3      0.997794   0.981060  \n",
       "4      0.990981   0.989256  \n",
       "...         ...        ...  \n",
       "7556  19.375394  26.728418  \n",
       "7557  19.221863  26.552846  \n",
       "7558  19.235878  26.829186  \n",
       "7559  19.350978  26.558779  \n",
       "7560  19.215324  26.599595  \n",
       "\n",
       "[7561 rows x 500 columns]"
      ]
     },
     "execution_count": 42,
     "metadata": {},
     "output_type": "execute_result"
    }
   ],
   "source": [
    "# Running a Monte Carlo simulation to forecast 30 years cumulative returns\n",
    "# YOUR CODE HERE!\n",
    "mc_sim_30.calc_cumulative_return()"
   ]
  },
  {
   "cell_type": "code",
   "execution_count": 45,
   "metadata": {},
   "outputs": [
    {
     "data": {
      "text/plain": [
       "<AxesSubplot:title={'center':'500 Simulations of Cumulative Portfolio Return Trajectories Over the Next 7560 Trading Days.'}>"
      ]
     },
     "execution_count": 45,
     "metadata": {},
     "output_type": "execute_result"
    },
    {
     "data": {
      "image/png": "[encoded data removed]",
      "text/plain": [
       "<Figure size 640x480 with 1 Axes>"
      ]
     },
     "metadata": {},
     "output_type": "display_data"
    }
   ],
   "source": [
    "# Plot simulation outcomes\n",
    "# YOUR CODE HERE!\n",
    "mc_sim_30.plot_simulation()"
   ]
  },
  {
   "cell_type": "code",
   "execution_count": 46,
   "metadata": {},
   "outputs": [
    {
     "data": {
      "text/plain": [
       "<AxesSubplot:title={'center':'Distribution of Final Cumuluative Returns Across All 500 Simulations'}, ylabel='Frequency'>"
      ]
     },
     "execution_count": 46,
     "metadata": {},
     "output_type": "execute_result"
    },
    {
     "data": {
      "image/png": "[encoded data removed]",
      "text/plain": [
       "<Figure size 640x480 with 1 Axes>"
      ]
     },
     "metadata": {},
     "output_type": "display_data"
    }
   ],
   "source": [
    "# Plot probability distribution and confidence intervals\n",
    "# YOUR CODE HERE!\n",
    "mc_sim_30.plot_distribution()"
   ]
  },
  {
   "cell_type": "markdown",
   "metadata": {},
   "source": [
    "### Retirement Analysis"
   ]
  },
  {
   "cell_type": "code",
   "execution_count": 60,
   "metadata": {},
   "outputs": [
    {
     "name": "stdout",
     "output_type": "stream",
     "text": [
      "count           500.000000\n",
      "mean             18.389328\n",
      "std              14.759942\n",
      "min               2.287367\n",
      "25%               9.434092\n",
      "50%              14.135920\n",
      "75%              22.454056\n",
      "max             142.069105\n",
      "95% CI Lower      3.771721\n",
      "95% CI Upper     55.989920\n",
      "Name: 7560, dtype: float64\n"
     ]
    },
    {
     "data": {
      "text/plain": [
       "pandas.core.series.Series"
      ]
     },
     "execution_count": 60,
     "metadata": {},
     "output_type": "execute_result"
    }
   ],
   "source": [
    "# Fetch summary statistics from the Monte Carlo simulation results\n",
    "# YOUR CODE HERE!\n",
    "my_sim_summary = mc_sim_30.summarize_cumulative_return()\n",
    "# Print summary statistics\n",
    "# YOUR CODE HERE!\n",
    "print(my_sim_summary)\n",
    "type(my_sim_summary)"
   ]
  },
  {
   "cell_type": "markdown",
   "metadata": {},
   "source": [
    "### Calculate the expected portfolio return at the 95% lower and upper confidence intervals based on a `$20,000` initial investment."
   ]
  },
  {
   "cell_type": "code",
   "execution_count": 74,
   "metadata": {},
   "outputs": [
    {
     "name": "stdout",
     "output_type": "stream",
     "text": [
      "There is a 95% chance that an initial investment of $20000 in the portfolio over the next 30 years will end within the range of $75434.42 and $1119798.39\n"
     ]
    }
   ],
   "source": [
    "# Set initial investment\n",
    "initial_investment = 20000\n",
    "\n",
    "# Use the lower and upper `95%` confidence intervals to calculate the range of the possible outcomes of our $20,000\n",
    "# YOUR CODE HERE!\n",
    "ci_lower = round(my_sim_summary.loc['95% CI Lower'] * initial_investment, 2)\n",
    "ci_upper = round(my_sim_summary.loc['95% CI Upper'] * initial_investment, 2)\n",
    "# Print results\n",
    "print(f\"There is a 95% chance that an initial investment of ${initial_investment} in the portfolio\"\n",
    "      f\" over the next 30 years will end within the range of\"\n",
    "      f\" ${ci_lower} and ${ci_upper}\")"
   ]
  },
  {
   "cell_type": "markdown",
   "metadata": {},
   "source": [
    "### Calculate the expected portfolio return at the `95%` lower and upper confidence intervals based on a `50%` increase in the initial investment."
   ]
  },
  {
   "cell_type": "code",
   "execution_count": 75,
   "metadata": {},
   "outputs": [
    {
     "name": "stdout",
     "output_type": "stream",
     "text": [
      "There is a 95% chance that an initial investment of $30000.0 in the portfolio over the next 30 years will end within the range of $113151.62 and $1679697.59\n"
     ]
    }
   ],
   "source": [
    "# Set initial investment\n",
    "initial_investment = 20000 * 1.5\n",
    "\n",
    "# Use the lower and upper `95%` confidence intervals to calculate the range of the possible outcomes of our $30,000\n",
    "# YOUR CODE HERE!\n",
    "ci_lower = round(my_sim_summary.loc['95% CI Lower'] * initial_investment, 2)\n",
    "ci_upper = round(my_sim_summary.loc['95% CI Upper'] * initial_investment, 2)\n",
    "\n",
    "# Print results\n",
    "print(f\"There is a 95% chance that an initial investment of ${initial_investment} in the portfolio\"\n",
    "      f\" over the next 30 years will end within the range of\"\n",
    "      f\" ${ci_lower} and ${ci_upper}\")"
   ]
  },
  {
   "cell_type": "markdown",
   "metadata": {},
   "source": [
    "## Optional Challenge - Early Retirement\n",
    "\n",
    "\n",
    "### Five Years Retirement Option"
   ]
  },
  {
   "cell_type": "code",
   "execution_count": null,
   "metadata": {},
   "outputs": [],
   "source": [
    "# Configuring a Monte Carlo simulation to forecast 5 years cumulative returns\n",
    "# YOUR CODE HERE!"
   ]
  },
  {
   "cell_type": "code",
   "execution_count": null,
   "metadata": {},
   "outputs": [],
   "source": [
    "# Running a Monte Carlo simulation to forecast 5 years cumulative returns\n",
    "# YOUR CODE HERE!"
   ]
  },
  {
   "cell_type": "code",
   "execution_count": null,
   "metadata": {},
   "outputs": [],
   "source": [
    "# Plot simulation outcomes\n",
    "# YOUR CODE HERE!"
   ]
  },
  {
   "cell_type": "code",
   "execution_count": null,
   "metadata": {},
   "outputs": [],
   "source": [
    "# Plot probability distribution and confidence intervals\n",
    "# YOUR CODE HERE!"
   ]
  },
  {
   "cell_type": "code",
   "execution_count": null,
   "metadata": {},
   "outputs": [],
   "source": [
    "# Fetch summary statistics from the Monte Carlo simulation results\n",
    "# YOUR CODE HERE!\n",
    "\n",
    "# Print summary statistics\n",
    "# YOUR CODE HERE!"
   ]
  },
  {
   "cell_type": "code",
   "execution_count": null,
   "metadata": {},
   "outputs": [],
   "source": [
    "# Set initial investment\n",
    "# YOUR CODE HERE!\n",
    "\n",
    "# Use the lower and upper `95%` confidence intervals to calculate the range of the possible outcomes of our $60,000\n",
    "# YOUR CODE HERE!\n",
    "\n",
    "# Print results\n",
    "print(f\"There is a 95% chance that an initial investment of ${initial_investment} in the portfolio\"\n",
    "      f\" over the next 5 years will end within in the range of\"\n",
    "      f\" ${ci_lower_five} and ${ci_upper_five}\")"
   ]
  },
  {
   "cell_type": "markdown",
   "metadata": {},
   "source": [
    "### Ten Years Retirement Option"
   ]
  },
  {
   "cell_type": "code",
   "execution_count": null,
   "metadata": {},
   "outputs": [],
   "source": [
    "# Configuring a Monte Carlo simulation to forecast 10 years cumulative returns\n",
    "# YOUR CODE HERE!"
   ]
  },
  {
   "cell_type": "code",
   "execution_count": null,
   "metadata": {},
   "outputs": [],
   "source": [
    "# Running a Monte Carlo simulation to forecast 10 years cumulative returns\n",
    "# YOUR CODE HERE!"
   ]
  },
  {
   "cell_type": "code",
   "execution_count": null,
   "metadata": {},
   "outputs": [],
   "source": [
    "# Plot simulation outcomes\n",
    "# YOUR CODE HERE!"
   ]
  },
  {
   "cell_type": "code",
   "execution_count": null,
   "metadata": {},
   "outputs": [],
   "source": [
    "# Plot probability distribution and confidence intervals\n",
    "# YOUR CODE HERE!"
   ]
  },
  {
   "cell_type": "code",
   "execution_count": null,
   "metadata": {},
   "outputs": [],
   "source": [
    "# Fetch summary statistics from the Monte Carlo simulation results\n",
    "# YOUR CODE HERE!\n",
    "\n",
    "# Print summary statistics\n",
    "# YOUR CODE HERE!"
   ]
  },
  {
   "cell_type": "code",
   "execution_count": null,
   "metadata": {},
   "outputs": [],
   "source": [
    "# Set initial investment\n",
    "# YOUR CODE HERE!\n",
    "\n",
    "# Use the lower and upper `95%` confidence intervals to calculate the range of the possible outcomes of our $60,000\n",
    "# YOUR CODE HERE!\n",
    "\n",
    "# Print results\n",
    "print(f\"There is a 95% chance that an initial investment of ${initial_investment} in the portfolio\"\n",
    "      f\" over the next 10 years will end within in the range of\"\n",
    "      f\" ${ci_lower_ten} and ${ci_upper_ten}\")"
   ]
  }
 ],
 "metadata": {
  "kernelspec": {
   "display_name": "Python 3",
   "language": "python",
   "name": "python3"
  },
  "language_info": {
   "codemirror_mode": {
    "name": "ipython",
    "version": 3
   },
   "file_extension": ".py",
   "mimetype": "text/x-python",
   "name": "python",
   "nbconvert_exporter": "python",
   "pygments_lexer": "ipython3",
   "version": "3.9.4"
  }
 },
 "nbformat": 4,
 "nbformat_minor": 4
}
